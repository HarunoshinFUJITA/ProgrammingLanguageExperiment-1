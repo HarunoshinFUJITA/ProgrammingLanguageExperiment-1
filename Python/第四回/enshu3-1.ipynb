{
 "cells": [
  {
   "cell_type": "code",
   "execution_count": 3,
   "id": "0431bf98-2a34-4943-ba60-db080a1e0cd5",
   "metadata": {},
   "outputs": [
    {
     "data": {
      "image/png": "[encoded data removed]",
      "text/plain": [
       "<Figure size 432x288 with 2 Axes>"
      ]
     },
     "metadata": {
      "needs_background": "light"
     },
     "output_type": "display_data"
    }
   ],
   "source": [
    "import numpy as np\n",
    "import scipy.fft as spfft\n",
    "from scipy.signal import spectrogram\n",
    "from scipy.io.wavfile import read\n",
    "import matplotlib.pyplot as plt\n",
    "\n",
    "class ShowWav:\n",
    "    def __init__( self, fname ):\n",
    "        # ファイル名，データ読み込みなど\n",
    "        self.fname = fname\n",
    "        y = read(fname)\n",
    "        self.Fs = y[0]\n",
    "        self.ydat = y[1]\n",
    "        self.Nmax = self.ydat.shape[0]\n",
    "        \n",
    "        if self.ydat.ndim > 1:\n",
    "            self.channel = self.ydat.shape[1]\n",
    "        else:\n",
    "            self.channel = 1\n",
    "            self.ydat = self.ydat.reshape((self.Nmax, 1))\n",
    "        self.delta = 1.0 / self.Fs\n",
    "        self.fdelta = 1.0 / (self.Nmax * self.delta)\n",
    "        self.t = np.arange(self.Nmax) * self.delta\n",
    "        self.f = np.arange(-self.Nmax / 2, self.Nmax / 2) * self.fdelta\n",
    "\n",
    "    def plot( self ):\n",
    "        # チャネル毎のデータの表示\n",
    "        for k in range(self.channel):\n",
    "            yy = self.ydat[: self.Nmax, k]\n",
    "            \n",
    "            plt.figure()\n",
    "            \n",
    "            plt.subplot(1, 2, 1)\n",
    "            plt.plot(self.t, yy)\n",
    "            plt.xlim(0, self.t[-1])\n",
    "            plt.title(\"Amplitude Ch.%d\" % k)\n",
    "            plt.grid()\n",
    "            \n",
    "            Y = spfft.fft(yy)\n",
    "            \n",
    "            plt.subplot(1, 2, 2)\n",
    "            plt.xlim(self.f[0], self.f[-1])\n",
    "            plt.semilogy(self.f, np.abs(spfft.fftshift(Y)))\n",
    "            plt.title(\"Power Ch.%d\" % k)\n",
    "            plt.grid()\n",
    "            \n",
    "            plt.tight_layout()\n",
    "            plt.show()\n",
    "            \n",
    "    def plot_spectrogram(self):\n",
    "        for k in range(self.channel):\n",
    "            plt.figure()\n",
    "            \n",
    "            yy = self.ydat[: self.Nmax, k]\n",
    "            \n",
    "            plt.subplot(2, 1, 1)\n",
    "            plt.plot(self.t, yy)\n",
    "            plt.xlim(0, self.t[-1])\n",
    "            plt.title(\"Amplitude Ch.%d\" % k)\n",
    "            plt.grid()\n",
    "            \n",
    "            plt.subplot(2, 1, 2)\n",
    "            freqs, tt, Sxx = spectrogram(yy, self.Fs)\n",
    "            plt.pcolormesh(tt, freqs, np.log(Sxx), shading=\"auto\", cmap=\"jet\")\n",
    "            plt.xlim(0, tt[-1])\n",
    "            \n",
    "            plt.tight_layout()\n",
    "            plt.show()\n",
    "\n",
    "\n",
    "# クラスを定義したら，音ファイルを指定して実験してみる\n",
    "fname = 'KyokoSampling.wav'\n",
    "\n",
    "s = ShowWav( fname )\n",
    "s.plot()"
   ]
  },
  {
   "cell_type": "code",
   "execution_count": null,
   "id": "c82f4fb6-fdeb-4f0a-9ac9-cc404d6efa2a",
   "metadata": {},
   "outputs": [],
   "source": []
  },
  {
   "cell_type": "code",
   "execution_count": null,
   "id": "27026ee1-7cbd-44a4-896b-380ded449a62",
   "metadata": {},
   "outputs": [],
   "source": []
  }
 ],
 "metadata": {
  "kernelspec": {
   "display_name": "Python 3 (ipykernel)",
   "language": "python",
   "name": "python3"
  },
  "language_info": {
   "codemirror_mode": {
    "name": "ipython",
    "version": 3
   },
   "file_extension": ".py",
   "mimetype": "text/x-python",
   "name": "python",
   "nbconvert_exporter": "python",
   "pygments_lexer": "ipython3",
   "version": "3.9.7"
  }
 },
 "nbformat": 4,
 "nbformat_minor": 5
}
