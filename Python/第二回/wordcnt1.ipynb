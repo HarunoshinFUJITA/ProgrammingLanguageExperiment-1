{
 "cells": [
  {
   "cell_type": "code",
   "execution_count": 2,
   "id": "58911b5e-b30e-446f-9263-17b24dc0464d",
   "metadata": {},
   "outputs": [
    {
     "name": "stdout",
     "output_type": "stream",
     "text": [
      "lines:  71\n"
     ]
    }
   ],
   "source": [
    "'''演習1-2 ワードカウント'''\n",
    "\n",
    "\n",
    "with open('wordcnt1.ipynb', 'r') as f:\n",
    "\n",
    "    lines = f.readlines()\n",
    "\n",
    "\n",
    "# 行数はリストの長さを見ればわかる\n",
    "\n",
    "line_counts = len(lines)\n",
    "\n",
    "\n",
    "print('lines: ', line_counts)\n",
    "\n",
    "\n",
    "# 以下に演習の答えを書いていくこと"
   ]
  },
  {
   "cell_type": "code",
   "execution_count": null,
   "id": "69b6f01d-96ee-4abf-b8bf-55618908dae4",
   "metadata": {},
   "outputs": [],
   "source": []
  }
 ],
 "metadata": {
  "kernelspec": {
   "display_name": "Python 3 (ipykernel)",
   "language": "python",
   "name": "python3"
  },
  "language_info": {
   "codemirror_mode": {
    "name": "ipython",
    "version": 3
   },
   "file_extension": ".py",
   "mimetype": "text/x-python",
   "name": "python",
   "nbconvert_exporter": "python",
   "pygments_lexer": "ipython3",
   "version": "3.9.7"
  }
 },
 "nbformat": 4,
 "nbformat_minor": 5
}
